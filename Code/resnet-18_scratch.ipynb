{
 "cells": [
  {
   "cell_type": "code",
   "execution_count": 1,
   "metadata": {},
   "outputs": [],
   "source": [
    "import torch\n",
    "from torch import optim, nn\n",
    "import visdom\n",
    "import torchvision\n",
    "from torch.utils.data import DataLoader\n",
    "from Preprocess import Anime\n",
    "from net import ResNet18"
   ]
  },
  {
   "cell_type": "code",
   "execution_count": 2,
   "metadata": {},
   "outputs": [
    {
     "data": {
      "text/plain": [
       "<torch._C.Generator at 0x22d3c7cc2b0>"
      ]
     },
     "execution_count": 2,
     "metadata": {},
     "output_type": "execute_result"
    }
   ],
   "source": [
    "batchze = 32\n",
    "lr = 1e-3\n",
    "epochs = 10\n",
    "device = torch.device('cuda')\n",
    "torch.manual_seed(1234)"
   ]
  },
  {
   "cell_type": "code",
   "execution_count": 3,
   "metadata": {},
   "outputs": [],
   "source": [
    "# load data \n",
    "train_db = Anime('..\\\\Images', 512, 'train')\n",
    "val_db = Anime('..\\\\Images', 512, 'val')\n",
    "test_db = Anime('..\\\\Images', 512, 'test')"
   ]
  },
  {
   "cell_type": "code",
   "execution_count": 4,
   "metadata": {},
   "outputs": [],
   "source": [
    "train_loader = DataLoader(train_db,batch_size= batchze, shuffle= True, num_workers=4)\n",
    "val_loader = DataLoader(val_db,batch_size= batchze, num_workers=2)\n",
    "test_loader = DataLoader(test_db,batch_size= batchze, num_workers=2)"
   ]
  },
  {
   "cell_type": "code",
   "execution_count": 5,
   "metadata": {},
   "outputs": [],
   "source": [
    "def evaluate(model, loader):\n",
    "    correct = 0\n",
    "    total = len(loader.dataset)\n",
    "    for x , y in loader:\n",
    "        x, y  = x.to(device), y.to(device)\n",
    "        with torch.no_grad():\n",
    "            logits = model(x)\n",
    "            pred = logits.argmax(dim = 1)\n",
    "        correct += torch.eq(pred, y).sum().float().item()\n",
    "    return correct / total"
   ]
  },
  {
   "cell_type": "code",
   "execution_count": 6,
   "metadata": {},
   "outputs": [
    {
     "name": "stderr",
     "output_type": "stream",
     "text": [
      "Setting up a new session...\n"
     ]
    },
    {
     "name": "stdout",
     "output_type": "stream",
     "text": [
      "best acc: 0.9333333333333333 best epoch: 2\n",
      "loaded from checkpoint! \n",
      "test acc: 0.9354838709677419\n"
     ]
    }
   ],
   "source": [
    "viz = visdom.Visdom()\n",
    "def main():\n",
    "    model = ResNet18(4).to(device)\n",
    "    optimizer = optim.Adam(model.parameters(),lr = lr)\n",
    "    criteon = nn.CrossEntropyLoss()\n",
    "\n",
    "    best_acc, best_epoch = 0, 0\n",
    "    global_step = 0\n",
    "    viz.line([0], [-1], win='loss', opts=dict(title='loss'))\n",
    "    viz.line([0], [-1], win='val_acc', opts=dict(title='val_acc'))\n",
    "    for epoch in range(epochs):\n",
    "        for step, (x,y) in enumerate(train_loader):\n",
    "            # x: [b,3,512,512] y:[b]\n",
    "            x, y  = x.to(device), y.to(device)\n",
    "\n",
    "            logits = model(x)\n",
    "            loss = criteon(logits, y)\n",
    "\n",
    "            optimizer.zero_grad()\n",
    "            loss.backward()\n",
    "            optimizer.step()\n",
    "            viz.line([loss.item()], [global_step], win='loss', update='append')\n",
    "            global_step += 1\n",
    "        if epoch % 1 == 0:\n",
    "            val_acc = evaluate(model, val_loader)\n",
    "            if val_acc > best_acc:\n",
    "                best_epoch = epoch\n",
    "                best_acc = val_acc\n",
    "                torch.save(model.state_dict(),'best.mdl')\n",
    "                viz.line([val_acc], [global_step], win='val_acc', update='append')\n",
    "    print(\"best acc:\", best_acc, \"best epoch:\", best_epoch)\n",
    "    model.load_state_dict(torch.load(\"best.mdl\")) # load best state\n",
    "\n",
    "    print(\"loaded from checkpoint! \")\n",
    "\n",
    "    test_acc = evaluate(model, test_loader)\n",
    "    print(\"test acc:\", test_acc)\n",
    "\n",
    "main()"
   ]
  },
  {
   "cell_type": "code",
   "execution_count": null,
   "metadata": {},
   "outputs": [],
   "source": []
  },
  {
   "cell_type": "code",
   "execution_count": null,
   "metadata": {},
   "outputs": [],
   "source": []
  }
 ],
 "metadata": {
  "kernelspec": {
   "display_name": "Python 3",
   "language": "python",
   "name": "python3"
  },
  "language_info": {
   "codemirror_mode": {
    "name": "ipython",
    "version": 3
   },
   "file_extension": ".py",
   "mimetype": "text/x-python",
   "name": "python",
   "nbconvert_exporter": "python",
   "pygments_lexer": "ipython3",
   "version": "3.11.2"
  },
  "orig_nbformat": 4
 },
 "nbformat": 4,
 "nbformat_minor": 2
}
