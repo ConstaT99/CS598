{
 "cells": [
  {
   "cell_type": "code",
   "execution_count": 56,
   "metadata": {},
   "outputs": [],
   "source": [
    "import torch\n",
    "from torch import optim, nn\n",
    "import torchvision\n",
    "from torch.utils.data import Dataset, DataLoader,TensorDataset,random_split,SubsetRandomSampler, ConcatDataset\n",
    "from Preprocess import Anime\n",
    "from net import ResNet18\n",
    "import matplotlib.pyplot as plt\n",
    "import numpy as np \n",
    "from tqdm import tqdm\n",
    "from tqdm import trange\n",
    "from sklearn.model_selection import KFold"
   ]
  },
  {
   "cell_type": "code",
   "execution_count": 57,
   "metadata": {},
   "outputs": [],
   "source": [
    "batchze = 32\n",
    "lr = 1e-4\n",
    "epochs = 50\n",
    "device = torch.device('cuda')\n",
    "torch.manual_seed(1234)\n",
    "k=10\n",
    "splits=KFold(n_splits=k,shuffle=True,random_state=42)"
   ]
  },
  {
   "cell_type": "code",
   "execution_count": 58,
   "metadata": {},
   "outputs": [],
   "source": [
    "# load data \n",
    "all_db = Anime('..\\\\Images', 224, 'all')\n",
    "train_db = Anime('..\\\\Images', 224, 'train')\n",
    "val_db = Anime('..\\\\Images', 224, 'val')\n",
    "test_db = Anime('..\\\\Images', 224, 'test')"
   ]
  },
  {
   "cell_type": "code",
   "execution_count": 59,
   "metadata": {},
   "outputs": [],
   "source": [
    "train_loader = DataLoader(train_db,batch_size= batchze, shuffle= True, num_workers=4)\n",
    "val_loader = DataLoader(val_db,batch_size= batchze, num_workers=2)\n",
    "test_loader = DataLoader(test_db,batch_size= batchze, num_workers=2)\n",
    "\n"
   ]
  },
  {
   "cell_type": "code",
   "execution_count": 60,
   "metadata": {},
   "outputs": [],
   "source": [
    "# helper function\n",
    "def evaluate(model, loader):\n",
    "    correct = 0\n",
    "    total = len(loader.dataset)\n",
    "    for x , y in loader:\n",
    "        x, y  = x.to(device), y.to(device)\n",
    "        with torch.no_grad():\n",
    "            logits = model(x)\n",
    "            pred = logits.argmax(dim = 1)\n",
    "        correct += torch.eq(pred, y).sum().float().item()\n",
    "    return correct / total\n",
    "\n",
    "def train_epoch(model,device,dataloader,loss_fn,optimizer):\n",
    "    train_loss,train_correct=0.0,0\n",
    "    model.train()\n",
    "    for images, labels in dataloader:\n",
    "\n",
    "        images,labels = images.to(device),labels.to(device)\n",
    "        optimizer.zero_grad()\n",
    "        output = model(images)\n",
    "        loss = loss_fn(output,labels)\n",
    "        loss.backward()\n",
    "        optimizer.step()\n",
    "        train_loss += loss.item() * images.size(0)\n",
    "        scores, predictions = torch.max(output.data, 1)\n",
    "        train_correct += (predictions == labels).sum().item()\n",
    "\n",
    "    return train_loss,train_correct\n",
    "\n",
    "def valid_epoch(model,device,dataloader,loss_fn):\n",
    "    valid_loss, val_correct = 0.0, 0\n",
    "    model.eval()\n",
    "    with torch.no_grad():\n",
    "      for images, labels in dataloader:\n",
    "\n",
    "          images,labels = images.to(device),labels.to(device)\n",
    "          output = model(images)\n",
    "          loss=loss_fn(output,labels)\n",
    "          valid_loss+=loss.item()*images.size(0)\n",
    "          scores, predictions = torch.max(output.data,1)\n",
    "          val_correct+=(predictions == labels).sum().item()\n",
    "\n",
    "    return valid_loss,val_correct\n",
    "    "
   ]
  },
  {
   "cell_type": "code",
   "execution_count": 61,
   "metadata": {},
   "outputs": [],
   "source": [
    "\n",
    "# model = ResNet18(30).to(device)\n",
    "# optimizer = optim.Adam(model.parameters(),lr = lr)\n",
    "# criteon = nn.CrossEntropyLoss()\n",
    "# loss_data = []\n",
    "# val_acc_data = []\n",
    "# best_acc, best_epoch = 0, 0\n",
    "# global_step = 0\n",
    "# history = {'train_loss': [], 'test_loss': [],'train_acc':[],'test_acc':[]}\n",
    "# for fold, (train_idx,val_idx) in enumerate(splits.split(np.arange(len(all_db)))):\n",
    "#     train_sampler = SubsetRandomSampler(train_idx)\n",
    "#     test_sampler = SubsetRandomSampler(val_idx)\n",
    "#     train_loader = DataLoader(all_db, batch_size=batchze, sampler=train_sampler)\n",
    "#     test_loader = DataLoader(all_db, batch_size=batchze, sampler=test_sampler)\n",
    "\n",
    "#     for epoch in range(epochs):\n",
    "#         train_loss, train_correct=train_epoch(model,device,train_loader,criteon,optimizer)\n",
    "#         test_loss, test_correct=valid_epoch(model,device,test_loader,criteon)\n",
    "#         # calculate data\n",
    "#         train_loss = train_loss / len(train_loader.sampler)\n",
    "#         train_acc = train_correct / len(train_loader.sampler) * 100\n",
    "#         test_loss = test_loss / len(test_loader.sampler)\n",
    "#         test_acc = test_correct / len(test_loader.sampler) * 100\n",
    "#         print(\"Epoch:{}/{} AVG Training Loss:{:.3f} AVG Test Loss:{:.3f} AVG Training Acc {:.2f} % AVG Test Acc {:.2f} %\".format(epoch + 1,\n",
    "#                                                                                                             epochs,\n",
    "#                                                                                                             train_loss,\n",
    "#                                                                                                             test_loss,\n",
    "#                                                                                                             train_acc,\n",
    "#                                                                                                             test_acc))\n",
    "#         # keep data\n",
    "#         history['train_loss'].append(train_loss)\n",
    "#         history['test_loss'].append(test_loss)\n",
    "#         history['train_acc'].append(train_acc)\n",
    "#         history['test_acc'].append(test_acc) \n",
    "\n",
    "\n",
    "\n",
    "# print(\"loaded from checkpoint! \")\n",
    "\n",
    "# test_acc = evaluate(model, test_loader)\n",
    "# print(\"test acc:\", test_acc)\n"
   ]
  },
  {
   "cell_type": "code",
   "execution_count": 62,
   "metadata": {},
   "outputs": [
    {
     "name": "stderr",
     "output_type": "stream",
     "text": [
      "100%|██████████| 50/50 [09:35<00:00, 11.50s/epochs]\n"
     ]
    },
    {
     "name": "stdout",
     "output_type": "stream",
     "text": [
      "best acc: 0.8344827586206897 best epoch: 28\n",
      "loaded from checkpoint! \n",
      "test acc: 0.7827586206896552\n"
     ]
    }
   ],
   "source": [
    "model = ResNet18(30).to(device)\n",
    "optimizer = optim.Adam(filter(lambda p: p.requires_grad, model.parameters()),lr = lr)\n",
    "criteon = nn.CrossEntropyLoss()\n",
    "\n",
    "best_acc, best_epoch = 0, 0\n",
    "global_step = 0\n",
    "loss_data = []\n",
    "val_acc_data = []\n",
    "for epoch in trange(epochs, unit=\"epochs\"):\n",
    "    for step, (x,y) in enumerate(train_loader):\n",
    "        # x: [b,3,512,512] y:[b]\n",
    "        x, y  = x.to(device), y.to(device)\n",
    "\n",
    "        logits = model(x)\n",
    "        loss = criteon(logits, y)\n",
    "\n",
    "        optimizer.zero_grad()\n",
    "        loss.backward()\n",
    "        optimizer.step()\n",
    "        loss_data.append(loss.item())\n",
    "        global_step += 1\n",
    "    if epoch % 1 == 0:\n",
    "        val_acc = evaluate(model, val_loader)\n",
    "        if val_acc > best_acc:\n",
    "            best_epoch = epoch\n",
    "            best_acc = val_acc\n",
    "            torch.save(model.state_dict(),'best_scratch.mdl')\n",
    "        val_acc_data.append(val_acc)\n",
    "print(\"best acc:\", best_acc, \"best epoch:\", best_epoch)\n",
    "model.load_state_dict(torch.load(\"best_scratch.mdl\")) # load best state\n",
    "\n",
    "print(\"loaded from checkpoint! \")\n",
    "\n",
    "test_acc = evaluate(model, test_loader)\n",
    "print(\"test acc:\", test_acc)\n"
   ]
  },
  {
   "cell_type": "code",
   "execution_count": 63,
   "metadata": {},
   "outputs": [],
   "source": [
    "\n",
    "# # avg_train_loss = np.mean(history['train_loss'])\n",
    "# # avg_test_loss = np.mean(history['test_loss'])\n",
    "# # avg_train_acc = np.mean(history['train_acc'])\n",
    "# # avg_test_acc = np.mean(history['test_acc'])\n",
    "\n",
    "# print('Performance of {} fold cross validation'.format(k))\n",
    "# print(\"Average Training Loss: {:.4f} \\t Average Test Loss: {:.4f} \\t Average Training Acc: {:.3f} \\t Average Test Acc: {:.3f}\".format(avg_train_loss,avg_test_loss,avg_train_acc,avg_test_acc)) "
   ]
  },
  {
   "cell_type": "code",
   "execution_count": 64,
   "metadata": {},
   "outputs": [
    {
     "data": {
      "text/plain": [
       "Text(0.5, 1.0, 'val_acc')"
      ]
     },
     "execution_count": 64,
     "metadata": {},
     "output_type": "execute_result"
    },
    {
     "data": {
      "image/png": "[encoded data removed]",
      "text/plain": [
       "<Figure size 640x480 with 1 Axes>"
      ]
     },
     "metadata": {},
     "output_type": "display_data"
    },
    {
     "data": {
      "image/png": "[encoded data removed]",
      "text/plain": [
       "<Figure size 640x480 with 1 Axes>"
      ]
     },
     "metadata": {},
     "output_type": "display_data"
    }
   ],
   "source": [
    "# display the picture of loss and val_acc\n",
    "x = np.arange(0, global_step)\n",
    "x_2 = np.arange(0,epoch + 1)\n",
    "fig, ax = plt.subplots()\n",
    "ax.plot(x, loss_data)\n",
    "ax.set_title('loss')\n",
    "fig2, ax2 = plt.subplots()\n",
    "ax2.plot(x_2,val_acc_data)\n",
    "plt.ylim([0, 1])\n",
    "ax2.set_title('val_acc')"
   ]
  },
  {
   "cell_type": "code",
   "execution_count": 65,
   "metadata": {},
   "outputs": [
    {
     "name": "stdout",
     "output_type": "stream",
     "text": [
      "parameters size: 1254110\n"
     ]
    }
   ],
   "source": [
    "p = sum(map(lambda p:p.numel(), model.parameters()))\n",
    "print('parameters size:', p)"
   ]
  }
 ],
 "metadata": {
  "kernelspec": {
   "display_name": "Python 3",
   "language": "python",
   "name": "python3"
  },
  "language_info": {
   "codemirror_mode": {
    "name": "ipython",
    "version": 3
   },
   "file_extension": ".py",
   "mimetype": "text/x-python",
   "name": "python",
   "nbconvert_exporter": "python",
   "pygments_lexer": "ipython3",
   "version": "3.11.2"
  },
  "orig_nbformat": 4
 },
 "nbformat": 4,
 "nbformat_minor": 2
}
